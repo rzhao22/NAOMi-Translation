{
 "cells": [
  {
   "cell_type": "code",
   "execution_count": 1,
   "id": "d45489bf",
   "metadata": {},
   "outputs": [
    {
     "name": "stderr",
     "output_type": "stream",
     "text": [
      "C:\\Users\\ryant\\anaconda3\\lib\\site-packages\\numpy\\_distributor_init.py:30: UserWarning: loaded more than 1 DLL from .libs:\n",
      "C:\\Users\\ryant\\anaconda3\\lib\\site-packages\\numpy\\.libs\\libopenblas.EL2C6PLE4ZYW3ECEVIV3OXXGRN2NRFM2.gfortran-win_amd64.dll\n",
      "C:\\Users\\ryant\\anaconda3\\lib\\site-packages\\numpy\\.libs\\libopenblas.PYQHXLVVQ7VESDPUVUADXEVJOBGHJPAY.gfortran-win_amd64.dll\n",
      "  warnings.warn(\"loaded more than 1 DLL from .libs:\"\n"
     ]
    }
   ],
   "source": [
    "import numpy as np\n",
    "    \n",
    "def gaussian_psf_na(na = None,lambda_ = None,sampling = None,matSize = None,theta = None,nidx = None): \n",
    "    # [psf,x,y,z] = gaussian_psf(psflen,lambda,sampling,matSize,theta)\n",
    "    \n",
    "    # This function provides a sampled point-spread function (PSF) for use in\n",
    "# the scanning simulation. Specifically, this function generates Gaussian\n",
    "# shaped PSFs given the following inputs:\n",
    "#   psflen   - the length of the PSF given as the full-width half-max FWHM\n",
    "#              (1/e2 over 1.7).\n",
    "#   lambda   - the wavelength of the PSF\n",
    "#   sampling - the spacing between pixels\n",
    "#   matSize  - the output psf size\n",
    "    \n",
    "    # The outputs for this function are:\n",
    "#   psf - the output\n",
    "#   x y and z - the coordinate positions for FWHM axial length, defined\n",
    "#               as where the signal for a particular plane is 1/2 of the\n",
    "#               central plane\n",
    "    \n",
    "    # 2017 - Alex Song\n",
    "    \n",
    "    ###########################################################################\n",
    "## Input Parsing\n",
    "    \n",
    "    if len(varargin) < 6:\n",
    "        nidx = 1.33\n",
    "    \n",
    "    if len(varargin) < 5:\n",
    "        theta = 0\n",
    "    \n",
    "    if len(varargin) < 4:\n",
    "        matSize = np.array([101,101,1001])\n",
    "    \n",
    "    if len(varargin) < 3:\n",
    "        sampling = np.array([0.1,0.1,0.1])\n",
    "    \n",
    "    if len(sampling) < 3:\n",
    "        sampling = np.array([sampling(1),sampling(1),sampling(1)])\n",
    "    \n",
    "    if len(varargin) < 2:\n",
    "        lambda_ = 0.92\n",
    "    \n",
    "    if len(varargin) < 1:\n",
    "        na = 0.6\n",
    "    \n",
    "    ###########################################################################\n",
    "## Generate the PSF\n",
    "    \n",
    "    psflen = 0.626 * lambda_ / (nidx - np.sqrt(nidx ** 2 - na ** 2))\n",
    "    zr = psflen / 2\n",
    "    \n",
    "    x = ((np.arange(0,matSize(1) - 1+1)) - np.round(matSize(1) / 2)) * sampling(1)\n",
    "    \n",
    "    y = ((np.arange(0,matSize(2) - 1+1)) - np.round(matSize(2) / 2)) * sampling(2)\n",
    "    \n",
    "    z = ((np.arange(0,matSize(3) - 1+1)) - np.round(matSize(3) / 2)) * sampling(3)\n",
    "    \n",
    "    xg,yg,zg = np.meshgrid(x,y,z)\n",
    "    \n",
    "    R = np.array([[np.cos(np.pi/180*theta),- np.sin(np.pi/180*theta)],[np.sin(np.pi/180*theta),np.cos(np.pi/180*theta)]])\n",
    "    xg2 = R(1,1) * xg + R(1,2) * zg\n",
    "    zg2 = R(2,1) * xg + R(2,2) * zg\n",
    "    xg = xg2\n",
    "    zg = zg2\n",
    "    # intensity = (exp(-2*2*sqrt(log(2))*pi*nidx*(xg.^2+yg.^2)./(zr*lambda*(1+(zg/zr).^2)))...\n",
    "#                                                   ./(1+(zg/zr).^2));    # Evaluate the PSF values at each grid point\n",
    "    intensity = (np.exp(- 2 * np.pi * nidx * (xg ** 2 + yg ** 2) / (zr * lambda_ * (1 + (zg / zr) ** 2))) / (1 + (zg / zr) ** 2))\n",
    "    \n",
    "    psf = intensity ** 2\n",
    "    psf = np.transpose(psf[:, :, None], (2,1,3))\n",
    "    ###########################################################################\n",
    "###########################################################################\n",
    "    return psf,x,y,z,intensity"
   ]
  },
  {
   "cell_type": "code",
   "execution_count": null,
   "id": "7b83911b",
   "metadata": {},
   "outputs": [],
   "source": []
  }
 ],
 "metadata": {
  "kernelspec": {
   "display_name": "Python 3 (ipykernel)",
   "language": "python",
   "name": "python3"
  },
  "language_info": {
   "codemirror_mode": {
    "name": "ipython",
    "version": 3
   },
   "file_extension": ".py",
   "mimetype": "text/x-python",
   "name": "python",
   "nbconvert_exporter": "python",
   "pygments_lexer": "ipython3",
   "version": "3.8.5"
  }
 },
 "nbformat": 4,
 "nbformat_minor": 5
}

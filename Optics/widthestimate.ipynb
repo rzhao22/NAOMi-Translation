{
 "cells": [
  {
   "cell_type": "code",
   "execution_count": 19,
   "id": "d29d91d9",
   "metadata": {},
   "outputs": [],
   "source": [
    "import numpy as np\n",
    "    \n",
    "def widthestimate(vector = None,fraction = 0.5): \n",
    "    #calculates fwhm if fraction is 0.5, fw 1/e for 1/e, etc., uses linear\n",
    "#interpolation\n",
    "\n",
    "    vector = vector / np.amax(vector)\n",
    "    greater = np.where(vector>fraction)\n",
    "    print(greater)\n",
    "    flip = np.where(np.diff(greater)!=0)\n",
    "    print(flip)\n",
    "    s1 = (vector[flip[0] + 1] - fraction) / (vector[flip[0] + 1] - vector[flip[0]])\n",
    "    print(flip[0])\n",
    "    print(flip[1])\n",
    "    s2 = (vector[flip[1]] - fraction) / (vector[flip[1] - vector[flip[1] + 1]])\n",
    "    width = s1 + s2 + np.sum(greater)\n",
    "    if (nargout > 1):\n",
    "        center = find(vector == 1)\n",
    "        center = center(1)\n",
    "        pl = flip[0] - s1\n",
    "        pr = flip[1] + s2\n",
    "    \n",
    "    return width,pl,pr"
   ]
  },
  {
   "cell_type": "code",
   "execution_count": null,
   "id": "f9f72c2c",
   "metadata": {},
   "outputs": [],
   "source": []
  }
 ],
 "metadata": {
  "kernelspec": {
   "display_name": "Python 3 (ipykernel)",
   "language": "python",
   "name": "python3"
  },
  "language_info": {
   "codemirror_mode": {
    "name": "ipython",
    "version": 3
   },
   "file_extension": ".py",
   "mimetype": "text/x-python",
   "name": "python",
   "nbconvert_exporter": "python",
   "pygments_lexer": "ipython3",
   "version": "3.8.5"
  }
 },
 "nbformat": 4,
 "nbformat_minor": 5
}

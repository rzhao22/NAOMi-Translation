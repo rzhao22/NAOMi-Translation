{
 "cells": [
  {
   "cell_type": "code",
   "execution_count": 1,
   "id": "63cd2b17",
   "metadata": {},
   "outputs": [
    {
     "name": "stderr",
     "output_type": "stream",
     "text": [
      "C:\\Users\\ryant\\anaconda3\\lib\\site-packages\\numpy\\_distributor_init.py:30: UserWarning: loaded more than 1 DLL from .libs:\n",
      "C:\\Users\\ryant\\anaconda3\\lib\\site-packages\\numpy\\.libs\\libopenblas.EL2C6PLE4ZYW3ECEVIV3OXXGRN2NRFM2.gfortran-win_amd64.dll\n",
      "C:\\Users\\ryant\\anaconda3\\lib\\site-packages\\numpy\\.libs\\libopenblas.PYQHXLVVQ7VESDPUVUADXEVJOBGHJPAY.gfortran-win_amd64.dll\n",
      "  warnings.warn(\"loaded more than 1 DLL from .libs:\"\n"
     ]
    }
   ],
   "source": [
    "import numpy as np\n",
    "    \n",
    "def TPM_Simulation_Parameters(opt_type = None,psf_params = None): \n",
    "    \n",
    "    # [psf_params, tpm_params] = TPM_Simulation_Parameters(opt_type, , psf_params, tpm_params)\n",
    "    \n",
    "    # This function sets the default parameters for a few sets of imaging\n",
    "# conditions\n",
    "    \n",
    "    #   - filename          - Parameter output filename\n",
    "    \n",
    "    #   - opt_type          - Optics type. Defaults to standard\n",
    "#          'standard'   - Gaussian illumination of back aperture\n",
    "#          'bessel'     - Bessel beam illumination (Lu et al 2017)\n",
    "#          'stefo'      - Temporally focused beam (Prevedel et al 2016)\n",
    "#          'vtwins'     - vTwINS illumination\n",
    "    \n",
    "    # 2020 - Adam Charles & Alex Song\n",
    "    \n",
    "    if 'lowNA' == opt_type:\n",
    "        psf_params.NA = 0.2\n",
    "        psf_params.psf_sz = np.array([20,20,80])\n",
    "    else:\n",
    "        if 'standard' == opt_type:\n",
    "            psf_params.NA = 0.6\n",
    "            psf_params.psf_sz = np.array([20,20,50])\n",
    "        else:\n",
    "            if 'bessel' == opt_type:\n",
    "                psf_params = getDefaultPSFParams('bessel')\n",
    "                psf_params.psf_sz = np.array([20,20,80])\n",
    "                tpm_params.pavg = 120\n",
    "            else:\n",
    "                if 'stefo' == opt_type:\n",
    "                    psf_params = getDefaultPSFParams('temporal-focusing')\n",
    "                    psf_params.psf_sz = np.array([20,20,50])\n",
    "                    tpm_params.pavg = 400\n",
    "                else:\n",
    "                    if 'vtwins' == opt_type:\n",
    "                        psf_params = getDefaultPSFParams('vtwins')\n",
    "                        psf_params.psf_sz = np.array([20,20,80])\n",
    "                    else:\n",
    "                        raise Exception('Given optics type is invalid')\n",
    "    \n",
    "    psf_params.objNA = 0.8\n",
    "    \n",
    "    psf_params.zernikeWt = np.array([0,0,0,0,0,0,0,0,0,0,0.06])\n",
    "    \n",
    "    psf_params = check_psf_params(psf_params)\n",
    "    \n",
    "    tpm_params = check_tpm_params(tpm_params)\n",
    "    return psf_params\n",
    "    \n",
    "    return psf_params"
   ]
  },
  {
   "cell_type": "code",
   "execution_count": null,
   "id": "64f58813",
   "metadata": {},
   "outputs": [],
   "source": []
  }
 ],
 "metadata": {
  "kernelspec": {
   "display_name": "Python 3 (ipykernel)",
   "language": "python",
   "name": "python3"
  },
  "language_info": {
   "codemirror_mode": {
    "name": "ipython",
    "version": 3
   },
   "file_extension": ".py",
   "mimetype": "text/x-python",
   "name": "python",
   "nbconvert_exporter": "python",
   "pygments_lexer": "ipython3",
   "version": "3.8.5"
  }
 },
 "nbformat": 4,
 "nbformat_minor": 5
}

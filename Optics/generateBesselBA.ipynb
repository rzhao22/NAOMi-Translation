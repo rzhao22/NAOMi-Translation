{
 "cells": [
  {
   "cell_type": "code",
   "execution_count": 2,
   "id": "979c53e5",
   "metadata": {},
   "outputs": [
    {
     "name": "stderr",
     "output_type": "stream",
     "text": [
      "C:\\Users\\ryant\\anaconda3\\lib\\site-packages\\numpy\\_distributor_init.py:30: UserWarning: loaded more than 1 DLL from .libs:\n",
      "C:\\Users\\ryant\\anaconda3\\lib\\site-packages\\numpy\\.libs\\libopenblas.EL2C6PLE4ZYW3ECEVIV3OXXGRN2NRFM2.gfortran-win_amd64.dll\n",
      "C:\\Users\\ryant\\anaconda3\\lib\\site-packages\\numpy\\.libs\\libopenblas.PYQHXLVVQ7VESDPUVUADXEVJOBGHJPAY.gfortran-win_amd64.dll\n",
      "  warnings.warn(\"loaded more than 1 DLL from .libs:\"\n"
     ]
    }
   ],
   "source": [
    "import numpy as np\n",
    "    \n",
    "def generateBesselBA(vol_params = None,psf_params = None): \n",
    "    # Uout2 = generateBesselBA(vol_params,psf_params)\n",
    "    \n",
    "    # This function generates a Bessel back aperture intensity profile with\n",
    "# the specified aberrations applied. The inputs are\n",
    "    \n",
    "    # - vol_params          - Struct with parameters for the volume generation\n",
    "#          .vol_sz      - 3-element vector with the size (in um) of the\n",
    "#                         volume to generate (default = 100x100x30um)\n",
    "#          .vres        - resolution to simulate volume at (default = 2\n",
    "#                         samples/um)\n",
    "# - psf_params          - Struct contaning the parameters for the PSF\n",
    "#          .NA          - Numerical aperture of Gaussian beam\n",
    "#          .objNA       - Numerical aperture of objective lens\n",
    "#          .n           - Refractive index of propagation material\n",
    "#          .lambda      - Two-photon excitation wavelength (um)\n",
    "#          .obj_fl      - Objective focal length (mm)\n",
    "#          .ss          - Subsampling factor for fresnel propagation\n",
    "#          .sampling    - Spatial sampling for tissue occlusion mask\n",
    "#          .zernikeDst  - Microscope aberration weights (Zernike basis) as\n",
    "#                         a function of position\n",
    "# The output is\n",
    "# - Uout2               - Output scalar field\n",
    "    \n",
    "    # 2017 - Alex Song\n",
    "    \n",
    "    ###########################################################################\n",
    "    \n",
    "    fl = single(psf_params.obj_fl / 1000)\n",
    "    \n",
    "    D2 = single(1e-06 * (1 / vol_params.vres) / psf_params.ss)\n",
    "    \n",
    "    N = single(1e-06 * (vol_params.vasc_sz(np.arange(1,2+1)) - vol_params.vol_sz(np.arange(1,2+1))) / D2)\n",
    "    \n",
    "    D1 = single(np.amax(gaussianBeamSize(psf_params,fl * 1000000.0) / 1000000.0) / np.amin(N))\n",
    "    \n",
    "    nre = single(psf_params.n)\n",
    "    \n",
    "    rad = single(np.tan(np.arcsin(psf_params.NA / nre)) * fl)\n",
    "    \n",
    "    objrad = single(np.tan(np.arcsin(psf_params.objNA / nre)) * fl)\n",
    "    \n",
    "    k = 2 * nre * np.pi / single(psf_params.vlambda * 1e-06)\n",
    "    \n",
    "    X,Y = np.meshgrid((np.arange(- N(1) / 2,N(1) / 2 - 1+1)) * D1,(np.arange(- N(2) / 2,N(2) / 2 - 1+1)) * D1)\n",
    "    width = 1.4e-10 * np.tan(np.arcsin(psf_params.NA / nre)) / (fl * 1e-06 * 2 * psf_params.length)\n",
    "    if (not isfield(psf_params,'bprof')  or len(psf_params.bprof)==0):\n",
    "        Uout = generateBesselProfile(X,Y,rad,width,k,fl)\n",
    "    else:\n",
    "        Uout = generateBesselProfile(X,Y,rad,width,k,fl,psf_params.bprof)\n",
    "    \n",
    "    imax = np.round(vol_params.vol_sz(1) / psf_params.sampling) + 1\n",
    "    jmax = np.round(vol_params.vol_sz(2) / psf_params.sampling) + 1\n",
    "    if (imax * jmax == 1 or (not isfield(psf_params,'zernikeDst') ) or len(psf_params.zernikeDst)==0):\n",
    "        abb = generateZernike(psf_params)\n",
    "        Uout2 = applyZernike(Uout,X / objrad,Y / objrad,k,abb)\n",
    "    else:\n",
    "        Uout2 = np.zeros(imax,jmax)\n",
    "        for i in np.arange(1,imax+1).reshape(-1):\n",
    "            for j in np.arange(1,jmax+1).reshape(-1):\n",
    "                abb = generateZernike(psf_params)\n",
    "                Uout2[i,j] = applyZernike(Uout,X,Y,k,abb)\n",
    "    \n",
    "    return Uout2"
   ]
  },
  {
   "cell_type": "code",
   "execution_count": null,
   "id": "b7b0c5d0",
   "metadata": {},
   "outputs": [],
   "source": []
  }
 ],
 "metadata": {
  "kernelspec": {
   "display_name": "Python 3 (ipykernel)",
   "language": "python",
   "name": "python3"
  },
  "language_info": {
   "codemirror_mode": {
    "name": "ipython",
    "version": 3
   },
   "file_extension": ".py",
   "mimetype": "text/x-python",
   "name": "python",
   "nbconvert_exporter": "python",
   "pygments_lexer": "ipython3",
   "version": "3.8.5"
  }
 },
 "nbformat": 4,
 "nbformat_minor": 5
}

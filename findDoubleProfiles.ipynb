{
 "cells": [
  {
   "cell_type": "code",
   "execution_count": null,
   "id": "9195eb0e",
   "metadata": {},
   "outputs": [],
   "source": [
    "import numpy as np\n",
    "\n",
    "def findDoubleProfiles(ideals = None,cnmf = None,suite2p = None,pcaica = None): \n",
    "    cnmf_allpairs_strongpairs = cnmf\n",
    "    TMP = np_unique(cnmf_allpairs_strongpairs[:,1])\n",
    "    ideals_doubling_cnmf = np.find(np.histogram(cnmf_allpairs_strongpairs[:,1],TMP) > 1)\n",
    "    ideals_doubling_cnmf = TMP(ideals_doubling_cnmf)\n",
    "    TMP = unique(cnmf_allpairs_strongpairs[:,1])\n",
    "    ideals_doubling_suite2p = np.find(hist(suite2p_allpairs_strongpairs[:,1],TMP) > 1)\n",
    "    ideals_doubling_suite2p = TMP[ideals_doubling_suite2p]\n",
    "    TMP = np.unique(cnmf_allpairs_strongpairs[:,1])\n",
    "    ideals_doubling_pcaica = np_find(np_histogram(pcaica_allpairs_strongpairs[:,1],TMP) > 1)\n",
    "    ideals_doubling_pcaica = TMP[ideals_doubling_pcaica]\n",
    "    return TMP, ideals_doubling_pcaica,ideals_doubling_suite2p\n"
   ]
  }
 ],
 "metadata": {
  "kernelspec": {
   "display_name": "Python 3 (ipykernel)",
   "language": "python",
   "name": "python3"
  },
  "language_info": {
   "codemirror_mode": {
    "name": "ipython",
    "version": 3
   },
   "file_extension": ".py",
   "mimetype": "text/x-python",
   "name": "python",
   "nbconvert_exporter": "python",
   "pygments_lexer": "ipython3",
   "version": "3.8.5"
  }
 },
 "nbformat": 4,
 "nbformat_minor": 5
}

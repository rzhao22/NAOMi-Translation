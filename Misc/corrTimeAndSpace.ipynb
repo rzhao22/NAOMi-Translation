{
 "cells": [
  {
   "cell_type": "code",
   "execution_count": 1,
   "id": "b200d000",
   "metadata": {},
   "outputs": [],
   "source": [
    "import numpy as np\n",
    "    \n",
    "def corrTimeAndSpace(t1 = None,t2 = None,s1 = None,s2 = None,varargin = None): \n",
    "    # varargout = corrTimeAndSpace(t1,t2,s1,s2,varargin)\n",
    "    \n",
    "    # Correlate two decompositions using both the timecourses (t1 and t2) and\n",
    "# spatial profiles (s1 and s2).\n",
    "    \n",
    "    # 2018 - Adam Charles\n",
    "    \n",
    "    ###########################################################################\n",
    "## Input parsing\n",
    "    \n",
    "    if len(varargin) > 4:\n",
    "        thresh_t = varargin[0]\n",
    "    else:\n",
    "        thresh_t = 0.1\n",
    "    \n",
    "    if len(varargin) > 5:\n",
    "        thresh_s = varargin[2]\n",
    "    else:\n",
    "        thresh_s = 0.5\n",
    "    \n",
    "    if len(varargin) > 6:\n",
    "        thresh_pix = varargin[3]\n",
    "    else:\n",
    "        thresh_pix = 0.1\n",
    "    \n",
    "    s1 = reshape(s1,[],s1.shape[np.asarray(s1).ndim-1])\n",
    "    \n",
    "    s2 = reshape(s2,[],s2.shape[np.asarray(s2).ndim-1])\n",
    "    \n",
    "    if (np.shape(s1[:,1]) != np.shape(t1[:,1])) or (np.shape(s2[:,1]) != np.shape(t2[:,1])):\n",
    "        raise Exception('Must have matching number of spatial and temporal components.')\n",
    "    \n",
    "    if (np.shape(t1[:,1]) != np.shape(t1[:,1])) or (np.shape(s1[:,1]) != np.shape(s2[:,1])):\n",
    "        raise Exception('Must have matching dimensions for spatial/temporal components.')\n",
    "    \n",
    "    ###########################################################################\n",
    "## Calculate temporal correlations and\n",
    "    \n",
    "    s1 = np.greater(s1,thresh_pix * np.amax(s1,[],1))\n",
    "    s1.astype(int)\n",
    "    \n",
    "    s2 = np.greater(s2,thresh_pix * np.amax(s2,[],1))\n",
    "    s2.astype(int)\n",
    "    \n",
    "    tp1 = np.sum(s1, 1)\n",
    "    tp2 = np.sum(s2, 1)\n",
    "    olap = (np.transpose(s1)) * single(s2)\n",
    "    \n",
    "    C = np.corrcoef(np.array([t1,t2]))\n",
    "    \n",
    "    C = C(0:np.shape(t1[:,1]),(np.shape(t1[:,1]) + 1:end))\n",
    "    \n",
    "    C[C < thresh_t] = NaN\n",
    "    \n",
    "    C[np.logical_and[[np.divide(olap, tp2) < thresh_s],[np.divide(olap, np.transpose(tp1)) < thresh_s]]] = NaN\n",
    "    \n",
    "    if nargout > 2:\n",
    "        varargout[3] = C\n",
    "    \n",
    "    corr_vec = []\n",
    "    \n",
    "    all_pairs = []\n",
    "    \n",
    "    while np.any(not np.isnan(C) ):\n",
    "\n",
    "        cm = np.amax(C(not np.isnan(C) ))\n",
    "        I,J = find(C == cm,1,'first')\n",
    "        corr_vec = np.concatenate(1,corr_vec,cm)\n",
    "        all_pairs = np.concatenate(1,all_pairs,np.array([I,J]))\n",
    "        C[:,J] = NaN\n",
    "\n",
    "    \n",
    "    ###########################################################################\n",
    "## Output parsing\n",
    "    \n",
    "    if nargout == 1:\n",
    "        tmp.corrs = corr_vec\n",
    "        tmp.pairs = all_pairs\n",
    "        varargout[0] = tmp\n",
    "    else:\n",
    "        if nargout > 1:\n",
    "    return varargout\n",
    "    \n",
    "###########################################################################\n",
    "###########################################################################\n",
    "    \n",
    "# C(olap<thresh_s) = NaN;                                                    # Threshold correlations for non-sufficiently-overlapping profiles\n",
    "# olap = bsxfun(@rdivide, olap, sum(s2,1));                                  # Normalize to the number of total pixels in s2\n",
    "# C    = t1.'*t2;                                                            # Calculate (temporal) correlation matrix\n"
   ]
  },
  {
   "cell_type": "code",
   "execution_count": 36,
   "id": "dc510fa6",
   "metadata": {},
   "outputs": [
    {
     "name": "stdout",
     "output_type": "stream",
     "text": [
      "[[0. 0.]\n",
      " [0. 0.]\n",
      " [0. 0.]\n",
      " [0. 0.]]\n"
     ]
    },
    {
     "data": {
      "text/plain": [
       "(4,)"
      ]
     },
     "execution_count": 36,
     "metadata": {},
     "output_type": "execute_result"
    }
   ],
   "source": [
    "A = np.zeros((4,2))\n",
    "print(A)\n",
    "A[0,0] = 8\n",
    "A[1,0] = 8\n",
    "A[2,0] = 8\n",
    "A[3,0] = 8\n",
    "\n",
    "\n",
    "np.shape(A[:,1])"
   ]
  },
  {
   "cell_type": "code",
   "execution_count": 28,
   "id": "b2ef13f9",
   "metadata": {},
   "outputs": [
    {
     "name": "stdout",
     "output_type": "stream",
     "text": [
      "[[0. 0. 0.]]\n"
     ]
    }
   ],
   "source": [
    "B = np.zeros((1,3))\n",
    "print(B)"
   ]
  },
  {
   "cell_type": "code",
   "execution_count": 32,
   "id": "93194443",
   "metadata": {},
   "outputs": [
    {
     "name": "stdout",
     "output_type": "stream",
     "text": [
      "[[ True  True  True]\n",
      " [ True  True  True]\n",
      " [ True  True  True]\n",
      " [ True  True  True]]\n"
     ]
    },
    {
     "data": {
      "text/plain": [
       "array([[1, 1, 1],\n",
       "       [1, 1, 1],\n",
       "       [1, 1, 1],\n",
       "       [1, 1, 1]])"
      ]
     },
     "execution_count": 32,
     "metadata": {},
     "output_type": "execute_result"
    }
   ],
   "source": [
    "C = np.greater(A,B)\n",
    "print(C)\n",
    "C.astype(int)"
   ]
  },
  {
   "cell_type": "code",
   "execution_count": null,
   "id": "a2d8c4e0",
   "metadata": {},
   "outputs": [],
   "source": []
  }
 ],
 "metadata": {
  "kernelspec": {
   "display_name": "Python 3 (ipykernel)",
   "language": "python",
   "name": "python3"
  },
  "language_info": {
   "codemirror_mode": {
    "name": "ipython",
    "version": 3
   },
   "file_extension": ".py",
   "mimetype": "text/x-python",
   "name": "python",
   "nbconvert_exporter": "python",
   "pygments_lexer": "ipython3",
   "version": "3.8.5"
  }
 },
 "nbformat": 4,
 "nbformat_minor": 5
}

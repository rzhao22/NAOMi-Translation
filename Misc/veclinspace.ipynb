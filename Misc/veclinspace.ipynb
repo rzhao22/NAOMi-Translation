{
 "cells": [
  {
   "cell_type": "code",
   "execution_count": null,
   "id": "35937f54",
   "metadata": {},
   "outputs": [],
   "source": [
    "import numpy as np"
   ]
  },
  {
   "cell_type": "code",
   "execution_count": 11,
   "id": "0fab8d4a",
   "metadata": {},
   "outputs": [],
   "source": [
    "def veclinspace(v1,v2,n):\n",
    "\n",
    "\n",
    "    '''\n",
    "    out = veclinspace(v1,v2,n)\n",
    "\n",
    "    A vectorized version of linspace that creates a sequence of n vectors\n",
    "    between v1 and v2. \n",
    "\n",
    "    2017 - Adam Charles and Alex Song\n",
    "    '''\n",
    "\n",
    "    out = np.zeros(length(v1),n)                                                 # Initialize the output at all zeros\n",
    "    for i in range(1,length(v1)):\n",
    "        out[i,:] = linspace(v1[i],v2[i],n)                                    # Perform linspace on the i^th component of the vectors\n",
    "\n"
   ]
  },
  {
   "cell_type": "code",
   "execution_count": null,
   "id": "4e66771d",
   "metadata": {},
   "outputs": [],
   "source": []
  }
 ],
 "metadata": {
  "kernelspec": {
   "display_name": "Python 3",
   "language": "python",
   "name": "python3"
  },
  "language_info": {
   "codemirror_mode": {
    "name": "ipython",
    "version": 3
   },
   "file_extension": ".py",
   "mimetype": "text/x-python",
   "name": "python",
   "nbconvert_exporter": "python",
   "pygments_lexer": "ipython3",
   "version": "3.9.11"
  }
 },
 "nbformat": 4,
 "nbformat_minor": 5
}

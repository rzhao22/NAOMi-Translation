{
 "cells": [
  {
   "cell_type": "code",
   "execution_count": null,
   "id": "254367c0",
   "metadata": {},
   "outputs": [],
   "source": [
    "import numpy as np\n",
    "    \n",
    "def applyNoiseModel(clean_mov = None,noise_params = None,dynodeResponse = None): \n",
    "    # function mov = applyNoiseModel(clean_mov,noise_params)\n",
    "    \n",
    "    # Function to apply the electronics noise model to a two-photon microscopy\n",
    "# simulated video created with zero noise. Inputs are:\n",
    "#   - clean_mov    - MxNxT array where each 2-D array is a movie frame with\n",
    "#                    no noise\n",
    "#   - noise_params - Struct contaning the parameters for the noise model\n",
    "#          .mu     - Mean measurement increase per photon (default = 150)\n",
    "#          .mu0    - Electronics offset (default = 0)\n",
    "#          .sigma  - Variance increase per photon (default = 5000)\n",
    "#          .sigma0 - Electronics base noise variance (default = 3.5)\n",
    "    \n",
    "    # Output is\n",
    "#   - mov - Movie with simulated noise\n",
    "    \n",
    "    # 2017 - Adam Charles\n",
    "    \n",
    "    ###########################################################################\n",
    "## Run noise model on each frame\n",
    "    \n",
    "    if (len(varargin) < 3):\n",
    "        dynodeResponse = []\n",
    "    \n",
    "    mov = np.zeros((np.shape(clean_mov),'single'))\n",
    "    \n",
    "    if (not isfield(noise_params,'type')  or len(noise_params('type'))==0 or str(noise_params('type')) == str('poissongauss')):\n",
    "        for kk in np.arange(1,np.shape(clean_mov[2])).reshape(-1):\n",
    "            mov[:,:,kk] = PoissonGaussNoiseModel(clean_mov(:,:,kk),noise_params)\n",
    "            mov[:,:,kk] = pixel_bleed(mov(:,:,kk),noise_params.bleedp,noise_params('bleedw'))\n",
    "    else:\n",
    "        if (str(noise_params.type) == str('dynode')):\n",
    "            if (len(dynodeResponse)==0):\n",
    "                ndynodes = 6\n",
    "                dynodeResponse = dynode_chain(6000,ndynodes,1 * np.array([0.25,4,3.69,3.69,2.19,2.19,2.19]))\n",
    "                dynodeResponse = dynodeResponse[np.arange(2,:)]\n",
    "            for kk in np.arange(1,np.shape(clean_mov[2]).reshape(-1):\n",
    "                countprint(kk)\n",
    "                mov[:,:,kk] = DynodeNoiseModel(clean_mov[:,:,kk],noise_params,dynodeResponse)\n",
    "\n",
    "    return mov"
   ]
  }
 ],
 "metadata": {
  "kernelspec": {
   "display_name": "Python 3 (ipykernel)",
   "language": "python",
   "name": "python3"
  },
  "language_info": {
   "codemirror_mode": {
    "name": "ipython",
    "version": 3
   },
   "file_extension": ".py",
   "mimetype": "text/x-python",
   "name": "python",
   "nbconvert_exporter": "python",
   "pygments_lexer": "ipython3",
   "version": "3.8.5"
  }
 },
 "nbformat": 4,
 "nbformat_minor": 5
}

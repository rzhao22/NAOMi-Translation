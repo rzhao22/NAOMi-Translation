{
 "cells": [
  {
   "cell_type": "code",
   "execution_count": null,
   "id": "fa2e9329",
   "metadata": {},
   "outputs": [],
   "source": [
    "def check_scan_params(scan_params = None): \n",
    "    # scan_params = check_scan_params(scan_params)\n",
    "    \n",
    "    # This function checks the elements of the struct scan_params to ensure\n",
    "# that all fields are set. Fields not set are set to a list of default\n",
    "# parameters. The struct checked is:\n",
    "    \n",
    "    #   - scan_params  - Struct contaning the parameters for the scanning\n",
    "#       .scan_avg  - Sampling rate of the scanning in terms of how many\n",
    "#                    granular pixels to scan into one pixel (default = 2)\n",
    "#       .motion    - True/false option for whether or not to simulate\n",
    "#                    motion while performing scanning (default = true)\n",
    "#       .scan_buff - Number of granular pixels to keep as a buffer from the\n",
    "#                    edge of the volume (default = 10)\n",
    "#       .verbose   - Level of verbosity in the output during the volume\n",
    "#                    generation. Can be 0,1,2. 0 = no text updates, 1 =\n",
    "#                    some text outputs. 2 = detailed text outputs (default\n",
    "#                    = 1)\n",
    "    \n",
    "    # 2017 - Adam Charles and Alex Song\n",
    "    \n",
    "    ###########################################################################\n",
    "## Run the checks\n",
    "    \n",
    "    if len(scan_params)==0:\n",
    "        clear('scan_params')\n",
    "        scan_params = struct\n",
    "    \n",
    "    if (not isfield(scan_params,'scan_buff') ) or len(scan_params.scan_buff)==0:\n",
    "        scan_params('scan_buff') = 10\n",
    "    \n",
    "    if (not isfield(scan_params,'motion') ) or len(scan_params.motion)==0:\n",
    "        scan_params('motion') = True\n",
    "    \n",
    "    if (not isfield(scan_params,'scan_avg') ) or len(scan_params.scan_avg)==0:\n",
    "        scan_params('scan_avg') = 2\n",
    "    \n",
    "    if (not isfield(scan_params,'sfrac') ) or len(scan_params.sfrac)==0:\n",
    "        scan_params('sfrac') = 2\n",
    "    \n",
    "    if (not isfield(scan_params,'verbose') ) or len(scan_params.verbose)==0:\n",
    "        scan_params('verbose') = 1\n",
    "    \n",
    "    return scan_params\n"
   ]
  }
 ],
 "metadata": {
  "kernelspec": {
   "display_name": "Python 3 (ipykernel)",
   "language": "python",
   "name": "python3"
  },
  "language_info": {
   "codemirror_mode": {
    "name": "ipython",
    "version": 3
   },
   "file_extension": ".py",
   "mimetype": "text/x-python",
   "name": "python",
   "nbconvert_exporter": "python",
   "pygments_lexer": "ipython3",
   "version": "3.8.5"
  }
 },
 "nbformat": 4,
 "nbformat_minor": 5
}

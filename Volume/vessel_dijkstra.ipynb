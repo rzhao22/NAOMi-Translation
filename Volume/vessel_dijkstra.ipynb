{
 "cells": [
  {
   "cell_type": "code",
   "execution_count": 1,
   "id": "f449729a",
   "metadata": {},
   "outputs": [
    {
     "name": "stderr",
     "output_type": "stream",
     "text": [
      "<>:21: SyntaxWarning: 'bool' object is not callable; perhaps you missed a comma?\n",
      "<>:21: SyntaxWarning: 'bool' object is not callable; perhaps you missed a comma?\n",
      "C:\\Users\\ryant\\AppData\\Local\\Temp/ipykernel_31060/939077651.py:21: SyntaxWarning: 'bool' object is not callable; perhaps you missed a comma?\n",
      "  tovisit = True(dims,1)\n"
     ]
    }
   ],
   "source": [
    "import numpy as np\n",
    "    \n",
    "def vessel_dijkstra(distMat = None,proot = None): \n",
    "    # [distance,pathfrom] = vessel_dijkstra(distMat,proot)\n",
    "    \n",
    "    # Function to apply Dijkstra's algorithm to growing out vasculature.\n",
    "# The inputs to this function are:\n",
    "    \n",
    "    #  - distMat  - distance matrix between different nodes\n",
    "#  - proot    - starting root node\n",
    "    \n",
    "    # The ouputs of this function are:\n",
    "#  - distance - minimum path distance from all nodes to root node\n",
    "#  - pathfrom - path from root to each node\n",
    "    \n",
    "    # 2017 - Alex Song\n",
    "    \n",
    "    ###########################################################################\n",
    "    \n",
    "    dims = distMat.shape[0]\n",
    "    tovisit = np.ones(dims,1)\n",
    "    unvisited = np.zeros(dims,1)\n",
    "    unvisited[proot] = 1\n",
    "    distance = np.full(dims,1)\n",
    "    distance[proot] = 0\n",
    "    pathfrom = np.full(dims,1,np.nan)\n",
    "    cn = proot\n",
    "    \n",
    "    while (nnz(unvisited)):\n",
    "\n",
    "        tovisit[cn] = 0\n",
    "        nextidx = find(unvisited)\n",
    "        __,idx = np.amin(nonzeros(unvisited))\n",
    "        cn = nextidx(idx)\n",
    "        unvisited[cn] = 0\n",
    "        for nn in np.arange(0,dims).reshape(-1):\n",
    "            if tovisit(nn):\n",
    "                ndist = distance(cn) + distMat(cn,nn)\n",
    "                if ndist < distance(nn):\n",
    "                    unvisited[nn] = np.amax(eps,ndist)\n",
    "                    distance[nn] = ndist\n",
    "                    pathfrom[nn] = cn\n",
    "\n",
    "    \n",
    "    return distance,pathfrom"
   ]
  },
  {
   "cell_type": "code",
   "execution_count": null,
   "id": "251bb0d6",
   "metadata": {},
   "outputs": [],
   "source": []
  }
 ],
 "metadata": {
  "kernelspec": {
   "display_name": "Python 3 (ipykernel)",
   "language": "python",
   "name": "python3"
  },
  "language_info": {
   "codemirror_mode": {
    "name": "ipython",
    "version": 3
   },
   "file_extension": ".py",
   "mimetype": "text/x-python",
   "name": "python",
   "nbconvert_exporter": "python",
   "pygments_lexer": "ipython3",
   "version": "3.8.5"
  }
 },
 "nbformat": 4,
 "nbformat_minor": 5
}

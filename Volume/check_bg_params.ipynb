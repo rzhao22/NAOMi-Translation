{
 "cells": [
  {
   "cell_type": "code",
   "execution_count": null,
   "id": "25c3a51a",
   "metadata": {},
   "outputs": [],
   "source": [
    "def check_bg_params(bg_params = None): \n",
    "    # bg_params = check_bg_params(bg_params)\n",
    "    \n",
    "    # This function checks the elements of the struct bg_params to ensure\n",
    "# that all fields are set. Fields not set are set to a list of default\n",
    "# parameters. The struct checked is:\n",
    "    \n",
    "    #   - bg_params   - Struct containing parameters for background generation\n",
    "#       .flag        - Flag for generation of background dendrites\n",
    "#       .distsc      - Parameter to determine how directed the random walk\n",
    "#                      to generate background processes is Higher values\n",
    "#                      are more directed/less random (default = 0.5)\n",
    "#       .fillweight  - Maximum length for a single process branch (default\n",
    "#                      = 100 um)\n",
    "#       .maxlength   - Maximum length for background processes (default =\n",
    "#                      200 um)\n",
    "#       .minlength   - Minimum length for background processes (default =\n",
    "#                      10 um)\n",
    "#       .maxdist     - Maximum distance to the end of a process (default =\n",
    "#                      100 um)\n",
    "#       .maxel       - Max number of axons per voxel (default = 8)\n",
    "    \n",
    "    # 2017 - Adam Charles and Alex Song\n",
    "    \n",
    "    ###########################################################################\n",
    "## Run the checks\n",
    "\n",
    "    if not vol_params == True:\n",
    "        class dParams:\n",
    "\n",
    "        # init method or constructor\n",
    "        def __init__(self, flag, distsc, fillweight, maxlength, minlength, maxdist, maxel):\n",
    "            self.flag = flag\n",
    "            self.distsc = distsc\n",
    "            self.fillweight = fillweight\n",
    "            self.maxlength = maxlength\n",
    "            self.minlength = minlength\n",
    "            self.maxdist = maxdist\n",
    "            self.maxel = maxel\n",
    "            \n",
    "    dParams = dParams(1, 0.5, 100, 200, 10, 100, 1)\n",
    "                     \n",
    "    bg_params = setParams(dParams,bg_params)\n",
    "    return bg_params"
   ]
  }
 ],
 "metadata": {
  "kernelspec": {
   "display_name": "Python 3 (ipykernel)",
   "language": "python",
   "name": "python3"
  },
  "language_info": {
   "codemirror_mode": {
    "name": "ipython",
    "version": 3
   },
   "file_extension": ".py",
   "mimetype": "text/x-python",
   "name": "python",
   "nbconvert_exporter": "python",
   "pygments_lexer": "ipython3",
   "version": "3.8.5"
  }
 },
 "nbformat": 4,
 "nbformat_minor": 5
}

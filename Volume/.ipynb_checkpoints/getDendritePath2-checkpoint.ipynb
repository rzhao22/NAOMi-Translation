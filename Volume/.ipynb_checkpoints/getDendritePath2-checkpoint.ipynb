{
 "cells": [
  {
   "cell_type": "code",
   "execution_count": null,
   "id": "ce20cc9f",
   "metadata": {},
   "outputs": [],
   "source": [
    "import numpy as np\n",
    "    \n",
    "def getDendritePath2(M = None,node = None,root = None): \n",
    "    # [path,pathM] = getDendritePath2(M,node,root)\n",
    "    \n",
    "    # Function to retrieve the path of a dendrite from the full paths matrix until\n",
    "# it hits the root node. Inputs are:\n",
    "#   - M    - pathfrom matrix (matrix containing obsticals to avoid)\n",
    "#   - node - End node location in the volume\n",
    "#   - root - Starting location for the dendrite path\n",
    "    \n",
    "    # Outputs are:\n",
    "#   - path  - retrieved path (list of positions)\n",
    "#   - pathM - full path matrix (binary matrix of path)\n",
    "    \n",
    "    # 2017 - Alex Song\n",
    "    \n",
    "    ###########################################################################\n",
    "    \n",
    "    path = node\n",
    "    \n",
    "    if len(node) == 2:\n",
    "        while (not node==root ):\n",
    "\n",
    "            node = np.transpose(np.squeeze(M(node(1),node(2),:)))\n",
    "            path = np.array([[path],[node]])\n",
    "\n",
    "        if nargout > 1:\n",
    "            pathM = np.zeros(M.shape[1-1],M.shape[2-1])\n",
    "            pathM[sub2ind[np.array[[M.shape[1-1],M.shape[2-1]]],path[:,1],path[:,2]]] = 1\n",
    "    else:\n",
    "        if len(node) == 3:\n",
    "            path = np.zeros((sum(M.shape),3))\n",
    "            path[1,:] = node\n",
    "            i = 1\n",
    "            while (not node==root ):\n",
    "\n",
    "                try:\n",
    "                    i = i + 1\n",
    "                    node = reshape(M(node(1),node(2),node(3),:),1,[])\n",
    "                    path[i,:] = node\n",
    "                finally:\n",
    "                    pass\n",
    "\n",
    "            if not len(path)==0 :\n",
    "                path = path(np.arange(1,i+1),:)\n",
    "            if nargout > 1:\n",
    "                pathM = np.zeros(M.shape[1-1],M.shape[2-1],M.shape[3-1])\n",
    "                if (not len(path)==0 ):\n",
    "                    pathM[sub2ind[np.array[[M.shape[1-1],M.shape[2-1],M.shape[3-1]]],path[:,1],path[:,2],path[:,3]]] = 1\n",
    "        else:\n",
    "            raise Exception('number of dimension of node is not 2 or 3')\n",
    "    \n",
    "    return path,pathM\n"
   ]
  }
 ],
 "metadata": {
  "kernelspec": {
   "display_name": "Python 3 (ipykernel)",
   "language": "python",
   "name": "python3"
  },
  "language_info": {
   "codemirror_mode": {
    "name": "ipython",
    "version": 3
   },
   "file_extension": ".py",
   "mimetype": "text/x-python",
   "name": "python",
   "nbconvert_exporter": "python",
   "pygments_lexer": "ipython3",
   "version": "3.8.5"
  }
 },
 "nbformat": 4,
 "nbformat_minor": 5
}

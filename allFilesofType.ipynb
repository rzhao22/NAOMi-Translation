{
 "cells": [
  {
   "cell_type": "code",
   "execution_count": 5,
   "id": "ccbe9aeb",
   "metadata": {},
   "outputs": [],
   "source": [
    "import numpy as np\n",
    "    \n",
    "def allFilesOfType(dataPath = None,varargin = None): \n",
    "    # Function to extract all .mat filenames in the fiven folder\n",
    "    \n",
    "    # 2020 Adam Charles\n",
    "    \n",
    "    ###########################################################################\n",
    "## Input parsing\n",
    "    if len(varargin) > 1:\n",
    "        fileExt = varargin[0]\n",
    "    else:\n",
    "        fileExt = '.mat'\n",
    "    \n",
    "    ###########################################################################\n",
    "## Check all the files in the directory\n",
    "    \n",
    "    listing = dir(dataPath)\n",
    "    \n",
    "    filename = np.zeros((len(listing),1))\n",
    "    \n",
    "    num_files = 0\n",
    "    \n",
    "    for kk in np.arange(1,np.asarray(filename).size+1).reshape(-1):\n",
    "        TMP_name = listing(kk).name\n",
    "        if (not listing(kk).isdir) and (str(TMP_name(np.arange(end() - 3,end()))) == str(fileExt)):\n",
    "            num_files = num_files + 1\n",
    "            filename[num_files] = TMP_name\n",
    "    \n",
    "    filename = filename[0, num_files]\n",
    "    \n",
    "    return filename\n",
    "    \n",
    "    ###########################################################################\n",
    "    ###########################################################################"
   ]
  },
  {
   "cell_type": "code",
   "execution_count": null,
   "id": "68239e73",
   "metadata": {},
   "outputs": [],
   "source": []
  },
  {
   "cell_type": "code",
   "execution_count": null,
   "id": "abcf4c9e",
   "metadata": {},
   "outputs": [],
   "source": []
  }
 ],
 "metadata": {
  "kernelspec": {
   "display_name": "Python 3 (ipykernel)",
   "language": "python",
   "name": "python3"
  },
  "language_info": {
   "codemirror_mode": {
    "name": "ipython",
    "version": 3
   },
   "file_extension": ".py",
   "mimetype": "text/x-python",
   "name": "python",
   "nbconvert_exporter": "python",
   "pygments_lexer": "ipython3",
   "version": "3.8.5"
  }
 },
 "nbformat": 4,
 "nbformat_minor": 5
}
